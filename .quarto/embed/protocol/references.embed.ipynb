{
 "cells": [
  {
   "cell_type": "markdown",
   "metadata": {},
   "source": [
    "# References\n",
    "\n",
    "Cavender-Bares J, White DM, Ahlstrand NI, Austin M, Bastianelli D, Bazan S, Boughalmi K, Cardinal-McTeague W, Chacón-Madrigal E, Couvreur TLP, Davis C, Durgante FM, Grace OM, Q JAG, Hansen K, Hernández-Leal MS, Hopkins MJG, Jackson R, Kothari S, Lee AK, Léveillé-Bourret É, Pinto-Ledezma J, Casaverde NLQ, Meireles JE, Nichodemus CO, Schmull M, Soltis DE, Soltis PS, Tuomisto H, Ustin S, Vasconcelos CC. 2025. NextGeneration specimen digitization: The international herbarium community goes spectral! *EcoEvoRxiv* \\[preprint\\]. <https://doi.org/10.32942/X2V927>.\n",
    "\n",
    "Durgante FM, Higuchi N, Almeida A, Vicentini A. 2013. Species Spectral Signature: Discriminating closely related plant species in the Amazon with Near-Infrared Leaf-Spectroscopy. *Forest Ecology and Management* 291:240–248. <https://doi.org/10.1016/j.foreco.2012.10.045>.\n",
    "\n",
    "Hadlich HL, Durgante FM, dos Santos J, Higuchi N, Chambers JQ, Vicentini A. 2018. Recognizing Amazonian tree species in the field using bark tissues spectra. *Forest Ecology and Management* 427:296–304. <https://doi.org/10.1016/j.foreco.2018.06.002>.\n",
    "\n",
    "Kühn P, Proß T, Römermann C, Wesche K, Bruelheide H. 2024. Using near-infrared spectroscopy to predict nitrogen and phosphorus concentrations of herbarium specimens under different storage conditions. *Plant Methods* 20:19. <https://doi.org/10.1186/s13007-024-01146-x>.\n",
    "\n",
    "Mersni J, Bazan S, Baby E, Bonnal V, Bastianelli D. 2025. Protocol for NIR spectra acquisition on herbarium specimen. *Agritrop*. <https://doi.org/10.18167/agritrop/00880>.\n",
    "\n",
    "Neto-Bradley BM, Bonnet P, Goëau H, Joly A, Cavender-Bares J, Coomes DA. 2025. Using reflectance spectra and Pl@ntNet to identify herbarium specimens: a case study with *Lithocarpus*. *New Phytologist*. <https://doi.org/10.1111/nph.70258>.\n",
    "\n",
    "White DM, Cavender-Bares J, Davis CC, Guzmán Q JA, Kothari S, Robles JM, Meireles JE. 2025. Seeing herbaria in a new light: leaf reflectance spectroscopy unlocks trait and classification modeling in plant biodiversity collections. *New Phytologist*. <https://doi.org/10.1111/nph.70357>.\n",
    "\n",
    "------------------------------------------------------------------------\n",
    "\n",
    "# Navigate the protocol\n",
    "\n",
    "Browse additional parts and appendices:\n",
    "\n",
    "-   [**Part 1**](part1-overview.qmd) – Overview  \n",
    "-   [**Part 2**](part2-workflow.qmd) – Measurement and Metadata Workflow  \n",
    "-   [**Part 3**](part3-filenames.qmd) – Filename Conventions and Formats  \n",
    "-   [**Part 4**](part4-metadata.qmd) – Metadata and Databasing  \n",
    "-   [**Part 5**](part5-instrumentation.qmd) – Instrumentation and Materials Guidelines  \n",
    "-   [**Part 6**](part6-guidelines.qmd) – Selecting Tissues for Spectral Measurement  \n",
    "-   [**References**](references.qmd)\n",
    "-   [**Appendix I**](appendix1.qmd) – Number of Measurements per Tissue  \n",
    "-   [**Appendix II**](appendix2.qmd) – Tissue Metadata for Quality Control"
   ],
   "id": "79835bd8-44f0-42dc-90d5-43b41a8551de"
  }
 ],
 "nbformat": 4,
 "nbformat_minor": 5,
 "metadata": {}
}
