{
 "cells": [
  {
   "cell_type": "markdown",
   "metadata": {},
   "source": [
    "# Part 3 – Filename Conventions and Formats"
   ],
   "id": "9947005f-a2c0-4931-bfe5-a63ea2ed8e9a"
  },
  {
   "cell_type": "raw",
   "metadata": {
    "raw_mimetype": "text/html"
   },
   "source": [
    "<!-- Page-only styles -->"
   ],
   "id": "10e513d1-cb0a-47bc-b9b3-194b77849b33"
  },
  {
   "cell_type": "raw",
   "metadata": {
    "raw_mimetype": "text/html"
   },
   "source": [
    "<style>\n",
    "  .table-narrow {\n",
    "    max-width: 150ch;\n",
    "    margin-left: auto;\n",
    "    margin-right: auto;\n",
    "    font-size: 1.05rem;\n",
    "    line-height: 1.7;\n",
    "    overflow-x: auto;   /* allow scroll if still too wide */\n",
    "  }\n",
    "</style>"
   ],
   "id": "ad674c7c-60c0-48b0-a9df-f56f65396032"
  },
  {
   "cell_type": "markdown",
   "metadata": {},
   "source": [
    "The full and simple filename conventions specified in [Table 3.1](#tbl-3-1) provide a consistent format for encoding key metadata into filenames, supporting traceability, metadata parsing, and long-term interoperability.\n",
    "\n",
    "Each filename follows a defined format, built from metadata-coded segments with standardized prefixes (see [Table 3.2](#tbl-3-2)). These are **recommended filename standards** designed for reliable parsing regardless of segment order, **corresponding to required metadata fields** described in [Part 4](part4-metadata.qmd). The spectrometer software will automatically append a measurement index (`IDX`) to the end of each filename—no additional text should be added after the `IDX`.\n",
    "\n",
    "Filename formats differ slightly depending on the type of target material (i.e., `targetClass`; see [Table 4.5](#tbl-4-5)). For white and black-background targets, the `projectId` (`PI`) and `sessionId` (`SI`) are key segments for traceability and the `SI` is also critical for linking to all associated tissue measurements via the tissue full filename. For tissues, the full filename convention also includes the minimum session-level, specimen-level, and tissue-level metadata needed for confident  \n",
    "data aggregation.\n",
    "\n",
    "A simplified filename convention may be used during measurement sessions to streamline data collection. However, projects should convert all filenames to the full format before archiving or sharing. When using the simplified format for local files, projects should maintain consistent file organization and take precautions to prevent ambiguity.\n",
    "\n",
    "------------------------------------------------------------------------\n",
    "\n",
    "## Recommended Filename Conventions\n",
    "\n",
    "### Table 3.1: Full and Simple Filename Conventions with Different Measurement Target Classes\n",
    "\n",
    "| Target (`targetClass`) | Convention Type | Filename format and example |\n",
    "|---------------------------|-----------------|-----------------------------|\n",
    "| White target (`TCW`) | Full | `PI<projectId>_SN<sessionId>_TC<targetClass>_<IDX>`<br>Example: `PIERYspec1_SN202406180932_TCW_0001` |\n",
    "| Black background target (`TCB`) | Full | `PI<projectId>_SN<sessionId>_TC<targetClass>_<IDX>`<br>Example: `PIERYspec1_SN202406180932_TCB_0001` |\n",
    "| White calibrated reflectance standard (`TCWC`) | Full | `PI<projectId>_SN<sessionId>_TC<targetClass><serialNumber>_<IDX>`<br>Example: `PIFagaceae_SN202506171532_TCWC7254_0000` |\n",
    "| Black calibrated reflectance standard (`TCBC`) | Full | `PI<projectId>_SN<sessionId>_TC<targetClass><serialNumber>_<IDX>`<br>Example: `PIFagaceae_SN202506171532_TCBC7210_0000` |\n",
    "| Tissue target on black background (`BGB` + `TCAD`/`TCAB`) | Full | `PI<projectId>_SN<sessionId>_BG<backgroundClass>_HC<herbariumCode>_SI<specimenId>_TC<targetClass>_TN<targetTissueId>_<IDX>`<br>Example: `PIERYspec1_SN202406180932_BGB_HCGH_SI02022418_TCAD_TN1_001` |\n",
    "| Tissue target on black background (`BGB` + `TCAD`/`TCAB`) | Simple | `SI<specimenId>_TC<targetClass>_TN<targetTissueId>_<IDX>`<br>Example: `SI02022418_TCAD_TN1_0001` |\n",
    "| Tissue target on paper (`BGP` + `TCAD`/`TCAB`) | Full | `PI<projectId>_SN<sessionId>_BG<backgroundClass>_HC<herbariumCode>_SI<specimenId>_TC<targetClass>_TN<targetTissueId>_<IDX>`<br>Example: `PIERYspec1_SN202406180932_BGP_HCNEBC_SI00746092_TCAD_TN1_001` |\n",
    "| Tissue target on paper (`BGP` + `TCAD`/`TCAB`) | Simple | `SI<specimenId>_TC<targetClass>_TN<targetTissueId>_<IDX>`<br>Example: `SI00746092_TCAD_TN1_0001` |\n",
    "| Paper target (`BGB` + `TCP`) | Full | `PI<projectId>_SN<sessionId>_BG<backgroundClass>_HC<herbariumCode>_SI<specimenId>_TC<targetClass>_TN<targetTissueId>_<IDX>`<br>Example: `PIERYspec1_SN202406180932_BGB_HCNEBC_SI00746092_TCP_TN1_001` |\n",
    "| Paper target (`BGB` + `TCP`) | Simple | `SI<specimenId>_TC<targetClass>_TN<targetTissueId>_<IDX>`<br>Example: `SI00746092_TCP_TN1_0001` |\n",
    "\n",
    "------------------------------------------------------------------------\n",
    "\n",
    "## Filename Components\n",
    "\n",
    "[Table 3.2](#tbl-3-2), below, defines the components of filenames and their direct links to metadata fields. Each segment of the filename follows a specific format, with a standardized prefix that links directly to a **required** metadata field (see [Part 4](part4-metadata.qmd). These components form the structured **conventions** shown in [Table 3.1](#tbl-3-1) and enable automatic parsing and alignment between spectral files and metadata records.\n",
    "\n",
    "### Table 3.2: Filename Components and Corresponding Metadata Fields.\n",
    "\n",
    "Cross-reference [Table 4.3](part4-metadata.qmd#tbl-4-3) for further descriptions of metadata fields.\n",
    "\n",
    "| Code | Metadata field | Description | Example |\n",
    "|----|----|----|----|\n",
    "| `PI` | `projectId` | Unique identifier for the spectral measurement project ([Table 4.1](part4-metadata.qmd#tbl-4-1)). | `PIHUHcoca`, `PIFagales1` |\n",
    "| `SN` | `sessionId` | A unique identifier generated from date/time when the session begins (`SNYYYYMMDDHHMM`; ([Table 4.1](part4-metadata.qmd#tbl-4-1)). | `SN202406180932` |\n",
    "| `BG` | `backgroundClass` | Enumerated code from Background Class Codes ([Table 4.7](part4-metadata.qmd#tbl-4-7)). | `BGB`, `BGP`, `BGO` |\n",
    "| `HC` | `herbariumCode` | Herbarium acronym or collection identifier ([Table 4.2](part4-metadata.qmd#tbl-4-2)). | `HCGH`, `HCINPA` |\n",
    "| `SI` | `specimenId` | Specimen ID (GUID, barcode, accession no., collector name + number; [Table 4.2](part4-metadata.qmd#tbl-4-2)). | `SI03774853`, `SIThorne24070` |\n",
    "| `TC` | `targetClass` | Enumerated code from Target Class Codes ([Table 4.5](part4-metadata.qmd#tbl-4-5)). | `TCAD`, `TCAB`, `TCW`, `TCP`, `TCB` |\n",
    "| `TN` | `targetTissueId` | Index tracking measured tissue units (e.g., 1, 2, …; [Table 4.3](part4-metadata.qmd#tbl-4-3)). | `TN1`, `TN2` |\n",
    "| `IDX` | `measurementIndex` | Auto-appended by spectrometer software ([Table 4.3](part4-metadata.qmd#tbl-4-3)). | `0001`, `0002` |\n",
    "\n",
    "------------------------------------------------------------------------\n",
    "\n",
    "# Navigate the protocol\n",
    "\n",
    "-   Proceed to [**Part 4**](part4-metadata.qmd)\n",
    "\n",
    "Browse additional parts and appendices:\n",
    "\n",
    "-   [**Part 1**](part1-overview.qmd) – Overview  \n",
    "-   [**Part 2**](part2-workflow.qmd) – Measurement and Metadata Workflow  \n",
    "-   [**Part 3**](part3-filenames.qmd) – Filename Conventions and Formats  \n",
    "-   [**Part 4**](part4-metadata.qmd) – Metadata and Databasing  \n",
    "-   [**Part 5**](part5-instrumentation.qmd) – Instrumentation and Materials Guidelines  \n",
    "-   [**Part 6**](part6-guidelines.qmd) – Selecting Tissues for Spectral Measurement  \n",
    "-   [**References**](references.qmd)\n",
    "-   [**Appendix I**](appendix1.qmd) – Number of Measurements per Tissue  \n",
    "-   [**Appendix II**](appendix2.qmd) – Tissue Metadata for Quality Control"
   ],
   "id": "211effcf-1ae0-487c-a9ff-18c6946398bf"
  }
 ],
 "nbformat": 4,
 "nbformat_minor": 5,
 "metadata": {}
}
