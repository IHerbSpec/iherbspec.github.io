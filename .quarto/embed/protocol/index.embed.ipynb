{
 "cells": [
  {
   "cell_type": "markdown",
   "metadata": {},
   "source": [
    "# The IHerbSpec Protocol\n",
    "\n",
    "Preface and chapters follow."
   ],
   "id": "85c58ba8-a282-47f3-8cfd-787492798c7e"
  }
 ],
 "nbformat": 4,
 "nbformat_minor": 5,
 "metadata": {}
}
